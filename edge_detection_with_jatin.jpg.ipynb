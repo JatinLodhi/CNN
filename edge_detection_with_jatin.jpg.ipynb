{
 "cells": [
  {
   "cell_type": "code",
   "execution_count": 1,
   "metadata": {},
   "outputs": [],
   "source": [
    "# import cv2\n",
    "import cv2 "
   ]
  },
  {
   "cell_type": "code",
   "execution_count": 2,
   "metadata": {},
   "outputs": [],
   "source": [
    "import matplotlib.pyplot as plt"
   ]
  },
  {
   "cell_type": "code",
   "execution_count": 3,
   "metadata": {},
   "outputs": [],
   "source": [
    "# read the image and save into img \n",
    "img = cv2.imread(\"jatin.jpg\")"
   ]
  },
  {
   "cell_type": "code",
   "execution_count": 4,
   "metadata": {},
   "outputs": [],
   "source": [
    "#assert not isinstance(img,type(None)), 'image not found'"
   ]
  },
  {
   "cell_type": "code",
   "execution_count": 5,
   "metadata": {},
   "outputs": [
    {
     "name": "stdout",
     "output_type": "stream",
     "text": [
      "[[[156 181 191]\n",
      "  [157 182 192]\n",
      "  [160 182 193]\n",
      "  ...\n",
      "  [144 158 176]\n",
      "  [142 156 174]\n",
      "  [141 155 173]]\n",
      "\n",
      " [[156 181 191]\n",
      "  [157 182 192]\n",
      "  [160 182 193]\n",
      "  ...\n",
      "  [146 160 178]\n",
      "  [144 158 176]\n",
      "  [142 156 174]]\n",
      "\n",
      " [[158 180 191]\n",
      "  [159 181 192]\n",
      "  [163 183 194]\n",
      "  ...\n",
      "  [148 162 180]\n",
      "  [146 160 178]\n",
      "  [145 159 177]]\n",
      "\n",
      " ...\n",
      "\n",
      " [[106 120 143]\n",
      "  [108 124 147]\n",
      "  [112 126 149]\n",
      "  ...\n",
      "  [ 63  83 108]\n",
      "  [ 59  79 104]\n",
      "  [ 58  78 103]]\n",
      "\n",
      " [[106 118 142]\n",
      "  [108 122 145]\n",
      "  [111 123 147]\n",
      "  ...\n",
      "  [ 59  79 104]\n",
      "  [ 56  76 101]\n",
      "  [ 57  77 102]]\n",
      "\n",
      " [[106 118 142]\n",
      "  [110 122 146]\n",
      "  [112 124 148]\n",
      "  ...\n",
      "  [ 58  78 103]\n",
      "  [ 56  76 101]\n",
      "  [ 58  78 103]]]\n"
     ]
    }
   ],
   "source": [
    "# print the img\n",
    "print  (img)"
   ]
  },
  {
   "cell_type": "code",
   "execution_count": 6,
   "metadata": {},
   "outputs": [
    {
     "data": {
      "text/plain": [
       "(480, 480, 3)"
      ]
     },
     "execution_count": 6,
     "metadata": {},
     "output_type": "execute_result"
    }
   ],
   "source": [
    "# see the row , coloum & Dimensions\n",
    "img.shape"
   ]
  },
  {
   "cell_type": "code",
   "execution_count": 7,
   "metadata": {},
   "outputs": [],
   "source": [
    "# total no. of features\n",
    "feature = 480*480*3"
   ]
  },
  {
   "cell_type": "code",
   "execution_count": 8,
   "metadata": {},
   "outputs": [
    {
     "data": {
      "text/plain": [
       "691200"
      ]
     },
     "execution_count": 8,
     "metadata": {},
     "output_type": "execute_result"
    }
   ],
   "source": [
    "feature"
   ]
  },
  {
   "cell_type": "code",
   "execution_count": 9,
   "metadata": {},
   "outputs": [],
   "source": [
    "# import numpy\n",
    "import numpy"
   ]
  },
  {
   "cell_type": "code",
   "execution_count": 10,
   "metadata": {},
   "outputs": [],
   "source": [
    " # arrange in stride we can move from o to o to o to o... then reach 1\n",
    "a = numpy.array([0,0,0,0,0,0,0,0,0,0,1,1,1,1,1,1,1,0,0,0,0,0,0])"
   ]
  },
  {
   "cell_type": "code",
   "execution_count": 11,
   "metadata": {},
   "outputs": [
    {
     "data": {
      "text/plain": [
       "(23,)"
      ]
     },
     "execution_count": 11,
     "metadata": {},
     "output_type": "execute_result"
    }
   ],
   "source": [
    "a.shape"
   ]
  },
  {
   "cell_type": "code",
   "execution_count": 12,
   "metadata": {},
   "outputs": [],
   "source": [
    "import matplotlib.pyplot as plt"
   ]
  },
  {
   "cell_type": "code",
   "execution_count": 13,
   "metadata": {},
   "outputs": [
    {
     "data": {
      "text/plain": [
       "[<matplotlib.lines.Line2D at 0x18ffae633d0>]"
      ]
     },
     "execution_count": 13,
     "metadata": {},
     "output_type": "execute_result"
    },
    {
     "data": {
      "image/png": "[encoded data removed]",
      "text/plain": [
       "<Figure size 432x288 with 1 Axes>"
      ]
     },
     "metadata": {
      "needs_background": "light"
     },
     "output_type": "display_data"
    }
   ],
   "source": [
    "# here suddenly change color you can see suppose 0 is black and 1 is white \n",
    "plt.plot(a,'o-')"
   ]
  },
  {
   "cell_type": "code",
   "execution_count": 14,
   "metadata": {},
   "outputs": [],
   "source": [
    "b = numpy.array([-1,1])"
   ]
  },
  {
   "cell_type": "code",
   "execution_count": 15,
   "metadata": {},
   "outputs": [],
   "source": [
    "\n",
    "c = numpy.convolve(a,b)"
   ]
  },
  {
   "cell_type": "code",
   "execution_count": 16,
   "metadata": {},
   "outputs": [
    {
     "data": {
      "text/plain": [
       "array([ 0,  0,  0,  0,  0,  0,  0,  0,  0,  0, -1,  0,  0,  0,  0,  0,  0,\n",
       "        1,  0,  0,  0,  0,  0,  0])"
      ]
     },
     "execution_count": 16,
     "metadata": {},
     "output_type": "execute_result"
    }
   ],
   "source": [
    "c"
   ]
  },
  {
   "cell_type": "code",
   "execution_count": 17,
   "metadata": {},
   "outputs": [
    {
     "data": {
      "text/plain": [
       "[<matplotlib.lines.Line2D at 0x18ffaefc670>]"
      ]
     },
     "execution_count": 17,
     "metadata": {},
     "output_type": "execute_result"
    },
    {
     "data": {
      "image/png": "[encoded data removed]",
      "text/plain": [
       "<Figure size 432x288 with 1 Axes>"
      ]
     },
     "metadata": {
      "needs_background": "light"
     },
     "output_type": "display_data"
    }
   ],
   "source": [
    "plt.plot(c,'o-')"
   ]
  },
  {
   "cell_type": "code",
   "execution_count": 18,
   "metadata": {},
   "outputs": [],
   "source": [
    "# change colour image into gray color or 3D into 2D & store in gray_img\n",
    "gray_img=cv2.cvtColor(img , cv2.COLOR_BGR2GRAY)"
   ]
  },
  {
   "cell_type": "code",
   "execution_count": 19,
   "metadata": {},
   "outputs": [
    {
     "data": {
      "text/plain": [
       "array([[[156, 181, 191],\n",
       "        [157, 182, 192],\n",
       "        [160, 182, 193],\n",
       "        ...,\n",
       "        [144, 158, 176],\n",
       "        [142, 156, 174],\n",
       "        [141, 155, 173]],\n",
       "\n",
       "       [[156, 181, 191],\n",
       "        [157, 182, 192],\n",
       "        [160, 182, 193],\n",
       "        ...,\n",
       "        [146, 160, 178],\n",
       "        [144, 158, 176],\n",
       "        [142, 156, 174]],\n",
       "\n",
       "       [[158, 180, 191],\n",
       "        [159, 181, 192],\n",
       "        [163, 183, 194],\n",
       "        ...,\n",
       "        [148, 162, 180],\n",
       "        [146, 160, 178],\n",
       "        [145, 159, 177]],\n",
       "\n",
       "       ...,\n",
       "\n",
       "       [[106, 120, 143],\n",
       "        [108, 124, 147],\n",
       "        [112, 126, 149],\n",
       "        ...,\n",
       "        [ 63,  83, 108],\n",
       "        [ 59,  79, 104],\n",
       "        [ 58,  78, 103]],\n",
       "\n",
       "       [[106, 118, 142],\n",
       "        [108, 122, 145],\n",
       "        [111, 123, 147],\n",
       "        ...,\n",
       "        [ 59,  79, 104],\n",
       "        [ 56,  76, 101],\n",
       "        [ 57,  77, 102]],\n",
       "\n",
       "       [[106, 118, 142],\n",
       "        [110, 122, 146],\n",
       "        [112, 124, 148],\n",
       "        ...,\n",
       "        [ 58,  78, 103],\n",
       "        [ 56,  76, 101],\n",
       "        [ 58,  78, 103]]], dtype=uint8)"
      ]
     },
     "execution_count": 19,
     "metadata": {},
     "output_type": "execute_result"
    }
   ],
   "source": [
    "cv2.imread('jatin.jpg')"
   ]
  },
  {
   "cell_type": "code",
   "execution_count": 20,
   "metadata": {},
   "outputs": [
    {
     "data": {
      "text/plain": [
       "(480, 480)"
      ]
     },
     "execution_count": 20,
     "metadata": {},
     "output_type": "execute_result"
    }
   ],
   "source": [
    "gray_img.shape"
   ]
  },
  {
   "cell_type": "code",
   "execution_count": 21,
   "metadata": {},
   "outputs": [
    {
     "data": {
      "image/png": "[encoded data removed]",
      "text/plain": [
       "<Figure size 432x288 with 1 Axes>"
      ]
     },
     "metadata": {
      "needs_background": "light"
     },
     "output_type": "display_data"
    }
   ],
   "source": [
    "# To display a grayscale image in Matplotlib, we use the matplotlib. pyplot. imshow() with parameters cmap set to 'gray' ,\n",
    "new_img = plt.imshow(gray_img,cmap='gray')"
   ]
  },
  {
   "cell_type": "code",
   "execution_count": 29,
   "metadata": {},
   "outputs": [],
   "source": [
    "# use filter and random no. in numpy array\n",
    "\n",
    "filter_kernal = numpy.array([\n",
    "    [3,3,7],\n",
    "    [3,89,3],\n",
    "    [-11,-22,-121]\n",
    "])"
   ]
  },
  {
   "cell_type": "code",
   "execution_count": 30,
   "metadata": {},
   "outputs": [
    {
     "data": {
      "text/plain": [
       "(480, 480)"
      ]
     },
     "execution_count": 30,
     "metadata": {},
     "output_type": "execute_result"
    }
   ],
   "source": [
    "gray_img.shape"
   ]
  },
  {
   "cell_type": "code",
   "execution_count": 31,
   "metadata": {},
   "outputs": [
    {
     "name": "stdout",
     "output_type": "stream",
     "text": [
      "[[181 182 183 ... 162 160 159]\n",
      " [181 182 183 ... 164 162 160]\n",
      " [181 182 184 ... 166 164 163]\n",
      " ...\n",
      " [125 129 131 ...  88  84  83]\n",
      " [124 127 129 ...  84  81  82]\n",
      " [124 128 130 ...  83  81  83]]\n"
     ]
    }
   ],
   "source": [
    "print (gray_img)"
   ]
  },
  {
   "cell_type": "code",
   "execution_count": 32,
   "metadata": {},
   "outputs": [],
   "source": [
    "#cv2.imshow('gray_img' )"
   ]
  },
  {
   "cell_type": "code",
   "execution_count": 33,
   "metadata": {},
   "outputs": [],
   "source": [
    "# With scipy . convolve2d() , we can sharpen an RGB image as well\n",
    "from scipy.signal import convolve2d"
   ]
  },
  {
   "cell_type": "code",
   "execution_count": 34,
   "metadata": {},
   "outputs": [],
   "source": [
    "# Convolve two 2-dimensional arrays.\n",
    "# Convolve input 1 and input 2 with output size determined by mode\n",
    "# Second input. Should have the same number of dimensions as input 1.\n",
    "final_img = convolve2d(gray_img,  filter_kernal)"
   ]
  },
  {
   "cell_type": "code",
   "execution_count": 35,
   "metadata": {},
   "outputs": [
    {
     "data": {
      "text/plain": [
       "<matplotlib.image.AxesImage at 0x18ffcdf5640>"
      ]
     },
     "execution_count": 35,
     "metadata": {},
     "output_type": "execute_result"
    },
    {
     "data": {
      "image/png": "[encoded data removed]",
      "text/plain": [
       "<Figure size 432x288 with 1 Axes>"
      ]
     },
     "metadata": {
      "needs_background": "light"
     },
     "output_type": "display_data"
    }
   ],
   "source": [
    "plt.imshow(final_img, cmap='gray')"
   ]
  },
  {
   "cell_type": "code",
   "execution_count": null,
   "metadata": {},
   "outputs": [],
   "source": []
  }
 ],
 "metadata": {
  "kernelspec": {
   "display_name": "Python 3",
   "language": "python",
   "name": "python3"
  },
  "language_info": {
   "codemirror_mode": {
    "name": "ipython",
    "version": 3
   },
   "file_extension": ".py",
   "mimetype": "text/x-python",
   "name": "python",
   "nbconvert_exporter": "python",
   "pygments_lexer": "ipython3",
   "version": "3.8.3"
  }
 },
 "nbformat": 4,
 "nbformat_minor": 4
}
